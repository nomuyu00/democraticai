{
 "nbformat": 4,
 "nbformat_minor": 0,
 "metadata": {
  "colab": {
   "provenance": []
  },
  "kernelspec": {
   "name": "python3",
   "display_name": "Python 3"
  },
  "language_info": {
   "name": "python"
  }
 },
 "cells": [
  {
   "cell_type": "code",
   "source": "",
   "metadata": {
    "colab": {
     "base_uri": "https://localhost:8080/"
    },
    "id": "Kh22Kn6qyRts",
    "outputId": "40b1f100-cc41-4723-f26a-cde82e457ef3",
    "executionInfo": {
     "status": "ok",
     "timestamp": 1738307596682,
     "user_tz": -540,
     "elapsed": 20726,
     "user": {
      "displayName": "野村祐介",
      "userId": "07314765568778234607"
     }
    }
   },
   "execution_count": 2,
   "outputs": [
    {
     "output_type": "stream",
     "name": "stdout",
     "text": [
      "Mounted at /content/drive\n"
     ]
    }
   ]
  },
  {
   "cell_type": "code",
   "source": [
    "import matplotlib.pyplot as plt\n",
    "import numpy as np\n",
    "import torch\n",
    "import random\n",
    "\n",
    "import torch.nn as nn\n",
    "import torch.optim as optim\n",
    "import torch.distributions as dist\n",
    "import pickle\n",
    "from torch.utils.data import Dataset, DataLoader\n",
    "import torch.nn.functional as F\n",
    "import pandas as pd\n",
    "\n",
    "%matplotlib inline"
   ],
   "metadata": {
    "id": "KDvxd3QWyWjm",
    "executionInfo": {
     "status": "ok",
     "timestamp": 1738307618750,
     "user_tz": -540,
     "elapsed": 6472,
     "user": {
      "displayName": "野村祐介",
      "userId": "07314765568778234607"
     }
    }
   },
   "execution_count": 3,
   "outputs": []
  },
  {
   "cell_type": "code",
   "source": [
    "file_loaded=open('/content/drive/MyDrive/Colab Notebooks/LSTM/result_10_4_4_4.pickle','rb')\n",
    "loaded_data=pickle.load(file_loaded)\n",
    "\n",
    "loaded_data_tensor=torch.tensor(loaded_data,dtype=torch.float32)"
   ],
   "metadata": {
    "id": "kDIpu2WZSvr0",
    "colab": {
     "base_uri": "https://localhost:8080/",
     "height": 193
    },
    "outputId": "eaab06b7-0232-43e5-cede-cbdb2e7e2fa9",
    "executionInfo": {
     "status": "error",
     "timestamp": 1738307622271,
     "user_tz": -540,
     "elapsed": 234,
     "user": {
      "displayName": "野村祐介",
      "userId": "07314765568778234607"
     }
    }
   },
   "execution_count": 4,
   "outputs": [
    {
     "output_type": "error",
     "ename": "FileNotFoundError",
     "evalue": "[Errno 2] No such file or directory: '/content/drive/MyDrive/Colab Notebooks/LSTM/result_10_4_4_4.pickle'",
     "traceback": [
      "\u001B[0;31m---------------------------------------------------------------------------\u001B[0m",
      "\u001B[0;31mFileNotFoundError\u001B[0m                         Traceback (most recent call last)",
      "\u001B[0;32m<ipython-input-4-8215d9452526>\u001B[0m in \u001B[0;36m<cell line: 0>\u001B[0;34m()\u001B[0m\n\u001B[0;32m----> 1\u001B[0;31m \u001B[0mfile_loaded\u001B[0m\u001B[0;34m=\u001B[0m\u001B[0mopen\u001B[0m\u001B[0;34m(\u001B[0m\u001B[0;34m'/content/drive/MyDrive/Colab Notebooks/LSTM/result_10_4_4_4.pickle'\u001B[0m\u001B[0;34m,\u001B[0m\u001B[0;34m'rb'\u001B[0m\u001B[0;34m)\u001B[0m\u001B[0;34m\u001B[0m\u001B[0;34m\u001B[0m\u001B[0m\n\u001B[0m\u001B[1;32m      2\u001B[0m \u001B[0mloaded_data\u001B[0m\u001B[0;34m=\u001B[0m\u001B[0mpickle\u001B[0m\u001B[0;34m.\u001B[0m\u001B[0mload\u001B[0m\u001B[0;34m(\u001B[0m\u001B[0mfile_loaded\u001B[0m\u001B[0;34m)\u001B[0m\u001B[0;34m\u001B[0m\u001B[0;34m\u001B[0m\u001B[0m\n\u001B[1;32m      3\u001B[0m \u001B[0;34m\u001B[0m\u001B[0m\n\u001B[1;32m      4\u001B[0m \u001B[0mloaded_data_tensor\u001B[0m\u001B[0;34m=\u001B[0m\u001B[0mtorch\u001B[0m\u001B[0;34m.\u001B[0m\u001B[0mtensor\u001B[0m\u001B[0;34m(\u001B[0m\u001B[0mloaded_data\u001B[0m\u001B[0;34m,\u001B[0m\u001B[0mdtype\u001B[0m\u001B[0;34m=\u001B[0m\u001B[0mtorch\u001B[0m\u001B[0;34m.\u001B[0m\u001B[0mfloat32\u001B[0m\u001B[0;34m)\u001B[0m\u001B[0;34m\u001B[0m\u001B[0;34m\u001B[0m\u001B[0m\n",
      "\u001B[0;31mFileNotFoundError\u001B[0m: [Errno 2] No such file or directory: '/content/drive/MyDrive/Colab Notebooks/LSTM/result_10_4_4_4.pickle'"
     ]
    }
   ]
  },
  {
   "cell_type": "code",
   "source": [
    "loaded_data[0]"
   ],
   "metadata": {
    "colab": {
     "base_uri": "https://localhost:8080/"
    },
    "id": "JJTKifFdd3vt",
    "outputId": "3c65ef4a-9c82-4ecd-8783-b366ad5851bd"
   },
   "execution_count": null,
   "outputs": [
    {
     "output_type": "execute_result",
     "data": {
      "text/plain": [
       "[array([10.        ,  4.        ,  4.        ,  4.        ,  2.        ,\n",
       "         1.        ,  3.        ,  2.        ,  0.2       ,  0.25      ,\n",
       "         0.75      ,  0.5       ,  1.50588235,  1.88235294,  5.64705882,\n",
       "         3.76470588,  0.        ,  1.        ,  3.        ,  2.        ]),\n",
       " array([10.  ,  4.  ,  4.  ,  4.  ,  0.  ,  1.  ,  3.  ,  2.  ,  0.  ,\n",
       "         0.25,  0.75,  0.5 ,  0.  ,  1.6 ,  4.8 ,  3.2 ,  3.  ,  3.  ,\n",
       "         3.  ,  2.  ]),\n",
       " array([10.        ,  4.        ,  4.        ,  4.        ,  3.        ,\n",
       "         3.        ,  3.        ,  2.        ,  0.3       ,  0.75      ,\n",
       "         0.75      ,  0.5       ,  2.29565217,  5.73913043,  5.73913043,\n",
       "         3.82608696,  2.        ,  4.        ,  4.        ,  3.        ]),\n",
       " array([10.        ,  4.        ,  4.        ,  4.        ,  2.        ,\n",
       "         4.        ,  4.        ,  3.        ,  0.2       ,  1.        ,\n",
       "         1.        ,  0.75      ,  1.41016949,  7.05084746,  7.05084746,\n",
       "         5.28813559,  0.        ,  4.        ,  4.        ,  3.        ]),\n",
       " array([10.  ,  4.  ,  4.  ,  4.  ,  0.  ,  4.  ,  4.  ,  3.  ,  0.  ,\n",
       "         1.  ,  1.  ,  0.75,  0.  ,  6.4 ,  6.4 ,  4.8 ,  4.  ,  4.  ,\n",
       "         4.  ,  4.  ]),\n",
       " array([10.        ,  4.        ,  4.        ,  4.        ,  4.        ,\n",
       "         4.        ,  4.        ,  4.        ,  0.4       ,  1.        ,\n",
       "         1.        ,  1.        ,  3.01176471,  7.52941176,  7.52941176,\n",
       "         7.52941176,  3.        ,  4.        ,  4.        ,  4.        ]),\n",
       " array([10.        ,  4.        ,  4.        ,  4.        ,  3.        ,\n",
       "         4.        ,  4.        ,  4.        ,  0.3       ,  1.        ,\n",
       "         1.        ,  1.        ,  2.18181818,  7.27272727,  7.27272727,\n",
       "         7.27272727,  3.        ,  4.        ,  4.        ,  4.        ]),\n",
       " array([10.        ,  4.        ,  4.        ,  4.        ,  3.        ,\n",
       "         4.        ,  4.        ,  4.        ,  0.3       ,  1.        ,\n",
       "         1.        ,  1.        ,  2.18181818,  7.27272727,  7.27272727,\n",
       "         7.27272727,  3.        ,  4.        ,  4.        ,  4.        ]),\n",
       " array([10.        ,  4.        ,  4.        ,  4.        ,  3.        ,\n",
       "         4.        ,  4.        ,  4.        ,  0.3       ,  1.        ,\n",
       "         1.        ,  1.        ,  2.18181818,  7.27272727,  7.27272727,\n",
       "         7.27272727,  0.        ,  4.        ,  4.        ,  4.        ])]"
      ]
     },
     "metadata": {},
     "execution_count": 4
    }
   ]
  },
  {
   "cell_type": "code",
   "source": [
    "train_input=loaded_data_tensor[:900,:,:16]\n",
    "test_input=loaded_data_tensor[900:,:,:16]\n",
    "\n",
    "train_target=loaded_data_tensor[:900,:,16:].long()\n",
    "test_target=loaded_data_tensor[900:,:,16:].long()"
   ],
   "metadata": {
    "id": "BU3G6ll1Tru2"
   },
   "execution_count": null,
   "outputs": []
  },
  {
   "cell_type": "code",
   "source": [
    "class LSTM(nn.Module):\n",
    "    def __init__(self, in_dim, hid_dim, out_dim):\n",
    "        super(LSTM, self).__init__()\n",
    "        # 入力層: 入力サイズ in_dim から出力サイズ 64 への線形変換\n",
    "        self.linear1 = nn.Linear(in_dim, 64)\n",
    "        # LSTM 層: 入力サイズ 64、隠れサイズ 16\n",
    "        self.lstm = nn.LSTM(input_size=64, hidden_size=16, batch_first=True)\n",
    "        # 出力層: 隠れサイズ 16 から最終出力サイズ out_dim (11) への線形変換\n",
    "        self.linear2 = nn.Linear(16, out_dim)\n",
    "        # 活性化関数\n",
    "        self.tanh = nn.Tanh()\n",
    "        # self.h0=torch.zeros(1,1,16)\n",
    "        # self.c0=torch.zeros(1,1,16)\n",
    "\n",
    "    def forward(self, x):\n",
    "        # 最初の線形層 + Tanh\n",
    "        x = self.tanh(self.linear1(x))  # 出力サイズ: [バッチサイズ, シーケンス長, 64]\n",
    "        # LSTM 層\n",
    "        lstm_out, (self.h0,self.c0) = self.lstm(x,(self.h0,self.c0))      # 出力サイズ: [バッチサイズ, シーケンス長, 16]\n",
    "        # LSTM の最終時刻の出力を取得\n",
    "        # final_output = lstm_out[:, -1, :]  # 最終時刻の出力のみを使用, サイズ: [バッチサイズ, 16]\n",
    "        # 最終線形層\n",
    "        x = self.linear2(lstm_out)   # 出力サイズ: [バッチサイズ, out_dim]\n",
    "        return x\n",
    "\n",
    "    def reset(self):\n",
    "        self.h0=torch.zeros(1,16)\n",
    "        self.c0=torch.zeros(1,16)\n"
   ],
   "metadata": {
    "id": "s9kYeFMPUXRl"
   },
   "execution_count": null,
   "outputs": []
  },
  {
   "cell_type": "code",
   "source": [
    "# ハイパーパラメタの決定\n",
    "in_dim=16\n",
    "hid_dim=16\n",
    "out_dim=11\n",
    "learning_rate = 0.001\n",
    "num_epochs = 100\n",
    "\n",
    "# lstmモデル、損失関数、最適化関数の初期化\n",
    "model_list, optimizer_list = [], []\n",
    "criterion = nn.CrossEntropyLoss()\n",
    "for _ in range(4):\n",
    "    model = LSTM(in_dim, hid_dim, out_dim)\n",
    "    model_list.append(model)\n",
    "    optimizer_list.append(optim.Adam(model.parameters(), lr=learning_rate))"
   ],
   "metadata": {
    "id": "rTwUd8K3Ugak"
   },
   "execution_count": null,
   "outputs": []
  },
  {
   "cell_type": "code",
   "source": [
    "# 学習ループ\n",
    "for player in range(2):\n",
    "  for epoch in range(num_epochs):\n",
    "      model_list[player].train()\n",
    "      epoch_loss = 0.0  # 各エポックの損失を累積する変数\n",
    "\n",
    "      for i in range(train_input.size(0)):\n",
    "          inputs = train_input[i]    # サイズ: [9, 16]\n",
    "          targets = train_target[i,:,player].long() # サイズ: [9]\n",
    "          model_list[player].reset()\n",
    "          # フォワードプロパゲーション\n",
    "          outputs = model_list[player](inputs)  # 出力サイズ: [9, 11]\n",
    "          # 損失計算\n",
    "          loss = criterion(outputs, targets)\n",
    "          # バックプロパゲーションと最適化\n",
    "          optimizer_list[player].zero_grad()\n",
    "          loss.backward()\n",
    "          optimizer_list[player].step()\n",
    "\n",
    "          epoch_loss += loss.item()\n",
    "      if(epoch%10==0):\n",
    "          print(f\"Epoch [{epoch+1}/{num_epochs}], Loss: {epoch_loss / train_input.size(0):.4f}\")"
   ],
   "metadata": {
    "colab": {
     "base_uri": "https://localhost:8080/"
    },
    "id": "ljkTb1QiUi_W",
    "outputId": "398fbfa3-80cd-4f52-e113-ac52c4892011"
   },
   "execution_count": null,
   "outputs": [
    {
     "output_type": "stream",
     "name": "stdout",
     "text": [
      "Epoch [1/100], Loss: 1.6195\n",
      "Epoch [11/100], Loss: 1.2357\n",
      "Epoch [21/100], Loss: 1.2151\n",
      "Epoch [31/100], Loss: 1.2028\n",
      "Epoch [41/100], Loss: 1.1951\n",
      "Epoch [51/100], Loss: 1.1872\n",
      "Epoch [61/100], Loss: 1.1824\n",
      "Epoch [71/100], Loss: 1.1790\n",
      "Epoch [81/100], Loss: 1.1738\n",
      "Epoch [91/100], Loss: 1.1708\n",
      "Epoch [1/100], Loss: 0.3439\n",
      "Epoch [11/100], Loss: 0.1321\n",
      "Epoch [21/100], Loss: 0.1304\n",
      "Epoch [31/100], Loss: 0.1271\n",
      "Epoch [41/100], Loss: 0.1256\n",
      "Epoch [51/100], Loss: 0.1255\n",
      "Epoch [61/100], Loss: 0.1237\n",
      "Epoch [71/100], Loss: 0.1221\n",
      "Epoch [81/100], Loss: 0.1205\n",
      "Epoch [91/100], Loss: 0.1195\n"
     ]
    }
   ]
  },
  {
   "cell_type": "code",
   "source": [
    "print(train_input[0][:1])\n",
    "print(model_list[0](train_input[0][:1:]))"
   ],
   "metadata": {
    "colab": {
     "base_uri": "https://localhost:8080/"
    },
    "id": "6l6OqpOzY-Z7",
    "outputId": "63a04796-dafc-4d95-fd48-93bf2bc6394b"
   },
   "execution_count": null,
   "outputs": [
    {
     "output_type": "stream",
     "name": "stdout",
     "text": [
      "tensor([[10.0000,  4.0000,  4.0000,  4.0000,  2.0000,  1.0000,  3.0000,  2.0000,\n",
      "          0.2000,  0.2500,  0.7500,  0.5000,  1.5059,  1.8824,  5.6471,  3.7647]])\n",
      "tensor([[  5.6307,   5.2688,   5.0981,   0.4679,  -1.9048,  -3.6072,  -3.9997,\n",
      "          -6.7206, -10.6703, -12.9718,  -9.2003]], grad_fn=<AddmmBackward0>)\n"
     ]
    }
   ]
  },
  {
   "cell_type": "code",
   "source": [
    "class GN(nn.Module):\n",
    "  def __init__(self,in_dim,out_dim):\n",
    "    super().__init__()\n",
    "    self.phi_e = nn.Linear(32+in_dim*2+32,32)\n",
    "    self.phi_v = nn.Linear(32+in_dim+32,32)\n",
    "    self.phi_u = nn.Linear(32*3,32)\n",
    "\n",
    "    self.phi_e_p = nn.Linear(32*4,32)\n",
    "    self.phi_v_p = nn.Linear(32*3,out_dim)\n",
    "\n",
    "    self.tanh = nn.Tanh()\n",
    "\n",
    "  def forward(self,x):\n",
    "    e,v,u = torch.zeros(4,4,32),torch.zeros(4,32),torch.zeros(32)\n",
    "    output = torch.zeros(4)\n",
    "    for i in range(4):\n",
    "      for j in range(4):\n",
    "          e[i][j] = self.tanh(self.phi_e(torch.cat((torch.zeros(32),x[game][i],x[game][j],u),dim=0)))\n",
    "\n",
    "    for i in range(4):\n",
    "      v[i] = self.tanh(self.phi_v(torch.cat((torch.sum(e,dim=1)[i],x[i],u),dim=0)))\n",
    "\n",
    "    u = self.tanh(self.phi_u(torch.cat((torch.sum(torch.sum(e,dim=2),dim=1),torch.sum(v,dim=1),u))))\n",
    "\n",
    "    e_p = torch.zeros(4,4,32)\n",
    "\n",
    "    for i in range(4):\n",
    "      for j in range(4):\n",
    "        e_p[i][j] = self.tanh(self.phi_e_p(torch.cat((e[i][j],v[i],v[j],u),dim=0)))\n",
    "\n",
    "    for i in range(4):\n",
    "      output[i] = self.tanh(self.phi_v_p(torch.cat((torch.sum(e_p[i],dim=1),v[i],u))))\n",
    "\n",
    "    return output\n",
    "\n"
   ],
   "metadata": {
    "id": "vmuMeSkniyJq"
   },
   "execution_count": null,
   "outputs": []
  },
  {
   "cell_type": "code",
   "source": [
    "# ハイパーパラメタの決定\n",
    "gn_in_dim=3\n",
    "gn_out_dim=1\n",
    "learning_rate = 0.001\n",
    "gn_epochs = 100\n",
    "sample_num = 1000\n",
    "\n",
    "gn_model = GN(gn_in_dim,gn_out_dim)\n",
    "gn_optimizer = optim.SGD(gn_model.parameters(), lr=learning_rate)\n",
    "\n",
    "def Prob(x):\n",
    "  x = x[0]\n",
    "  prob = [0]*(len(x))\n",
    "  for i in range(len(prob)):\n",
    "    prob[i] = prob[i-1]+torch.exp(x[i])\n",
    "\n",
    "  s = random.uniform(0,prob[-1])\n",
    "  for i in range(len(prob)):\n",
    "    if s <=  prob[i]:\n",
    "      return i\n",
    "\n",
    "\n",
    "def criterion():\n",
    "  return\n",
    "\n"
   ],
   "metadata": {
    "id": "nt25odORLjXw"
   },
   "execution_count": null,
   "outputs": []
  },
  {
   "cell_type": "code",
   "source": [
    "print(Prob(model_list[0](train_input[0][:1:])))\n",
    "\n",
    "x = torch.zeros(1,12)\n",
    "x[0][:4] = torch.tensor([10,4,4,4])\n",
    "print(x)"
   ],
   "metadata": {
    "colab": {
     "base_uri": "https://localhost:8080/"
    },
    "id": "dZkQ9Kda6VCK",
    "outputId": "b07d569e-6452-4583-e09c-649ee62ba104"
   },
   "execution_count": null,
   "outputs": [
    {
     "output_type": "stream",
     "name": "stdout",
     "text": [
      "2\n",
      "tensor([[10.,  4.,  4.,  4.,  0.,  0.,  0.,  0.,  0.,  0.,  0.,  0.]])\n"
     ]
    }
   ]
  },
  {
   "cell_type": "code",
   "source": [
    "for epoch in range(gn_epochs):\n",
    "  epoch_loss = 0.0\n",
    "  gn_model.train()\n",
    "  loss = torch.tensor([])\n",
    "  for _ in range(sample_num):\n",
    "      x = torch.zeros(1,12)\n",
    "      x[0][:4] = torch.tensor([10,4,4,4])\n",
    "      x.tensor.requires_grad = True\n",
    "      log = torch.zeros(10,12)\n",
    "      log[0] = x\n",
    "      for player in range(4):\n",
    "        model_list[player].reset()\n",
    "      for i in range(10):\n",
    "        for player in range(4):\n",
    "\n",
    "\n",
    "\n",
    "\n",
    "\n",
    "\n"
   ],
   "metadata": {
    "id": "-hsl2kSQMfiP"
   },
   "execution_count": null,
   "outputs": []
  },
  {
   "cell_type": "code",
   "source": [
    "print(train_target[0,:,].long())"
   ],
   "metadata": {
    "colab": {
     "base_uri": "https://localhost:8080/"
    },
    "id": "dSUkUgi8fuIo",
    "outputId": "d510fb65-4a94-4916-9b17-a49a79c123c8"
   },
   "execution_count": null,
   "outputs": [
    {
     "output_type": "stream",
     "name": "stdout",
     "text": [
      "tensor([[0, 1, 3, 2],\n",
      "        [3, 3, 3, 2],\n",
      "        [2, 4, 4, 3],\n",
      "        [0, 4, 4, 3],\n",
      "        [4, 4, 4, 4],\n",
      "        [3, 4, 4, 4],\n",
      "        [3, 4, 4, 4],\n",
      "        [3, 4, 4, 4],\n",
      "        [0, 4, 4, 4]])\n"
     ]
    }
   ]
  },
  {
   "cell_type": "code",
   "source": [
    "x = torch.zeros(5,5,5)\n",
    "for i in range(5):\n",
    "  for j in range(5):\n",
    "    for k in range(5):\n",
    "      x[i][j][k] = i*25+5*j+k\n",
    "\n",
    "print(x)\n",
    "print(torch.sum(torch.sum(x,dim=2),dim=1))"
   ],
   "metadata": {
    "colab": {
     "base_uri": "https://localhost:8080/"
    },
    "id": "24-boFWjiyQf",
    "outputId": "ecba1308-6fa8-4ac4-ecc6-f15fdb51a119"
   },
   "execution_count": null,
   "outputs": [
    {
     "output_type": "stream",
     "name": "stdout",
     "text": [
      "tensor([[[  0.,   1.,   2.,   3.,   4.],\n",
      "         [  5.,   6.,   7.,   8.,   9.],\n",
      "         [ 10.,  11.,  12.,  13.,  14.],\n",
      "         [ 15.,  16.,  17.,  18.,  19.],\n",
      "         [ 20.,  21.,  22.,  23.,  24.]],\n",
      "\n",
      "        [[ 25.,  26.,  27.,  28.,  29.],\n",
      "         [ 30.,  31.,  32.,  33.,  34.],\n",
      "         [ 35.,  36.,  37.,  38.,  39.],\n",
      "         [ 40.,  41.,  42.,  43.,  44.],\n",
      "         [ 45.,  46.,  47.,  48.,  49.]],\n",
      "\n",
      "        [[ 50.,  51.,  52.,  53.,  54.],\n",
      "         [ 55.,  56.,  57.,  58.,  59.],\n",
      "         [ 60.,  61.,  62.,  63.,  64.],\n",
      "         [ 65.,  66.,  67.,  68.,  69.],\n",
      "         [ 70.,  71.,  72.,  73.,  74.]],\n",
      "\n",
      "        [[ 75.,  76.,  77.,  78.,  79.],\n",
      "         [ 80.,  81.,  82.,  83.,  84.],\n",
      "         [ 85.,  86.,  87.,  88.,  89.],\n",
      "         [ 90.,  91.,  92.,  93.,  94.],\n",
      "         [ 95.,  96.,  97.,  98.,  99.]],\n",
      "\n",
      "        [[100., 101., 102., 103., 104.],\n",
      "         [105., 106., 107., 108., 109.],\n",
      "         [110., 111., 112., 113., 114.],\n",
      "         [115., 116., 117., 118., 119.],\n",
      "         [120., 121., 122., 123., 124.]]])\n",
      "tensor([ 300.,  925., 1550., 2175., 2800.])\n"
     ]
    }
   ]
  },
  {
   "cell_type": "code",
   "source": [
    "in_dim_M = 12\n",
    "out_dim_M = 4\n"
   ],
   "metadata": {
    "id": "fc1MOUyJp5_5"
   },
   "execution_count": null,
   "outputs": []
  },
  {
   "cell_type": "code",
   "source": [
    "def SGD(epochs, learning_rate, theta_init, batch_size):\n",
    "    theta = torch.Tensor(theta_init)\n",
    "    scores = []\n",
    "    grads = []\n",
    "    thetas = [theta_init]\n",
    "    theta_after = theta\n",
    "    for epoch in range(mecha_epochs):\n",
    "        grad,score = np.zeros(batch_size),np.zeros(batch_size)\n",
    "        for batch in range(batch_size):\n",
    "            for _ in range(10):\n",
    "\n",
    "\n",
    "        Grad = np.mean(grad)\n",
    "        Score = np.mean(score)\n",
    "        theta_after = theta - mecha_learning_rate * Grad\n",
    "        scores.append(Score)\n",
    "        grads.append(Grad)\n",
    "        thetas.append(theta.detach())\n",
    "        if epoch % 10 == 0:\n",
    "              print('epoch = {:3d}, theta = {:6f}, loss = {:6f}, gradient = {:6f}\\r'.format(epoch, float(theta), float(Score), float(Grad)), end='')\n",
    "    return scores, grads, thetas"
   ],
   "metadata": {
    "id": "roXIbc5KU5UZ"
   },
   "execution_count": null,
   "outputs": []
  }
 ]
}
